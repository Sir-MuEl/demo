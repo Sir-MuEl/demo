{
  "cells": [
    {
      "cell_type": "markdown",
      "metadata": {
        "id": "view-in-github",
        "colab_type": "text"
      },
      "source": [
        "<a href=\"https://colab.research.google.com/github/Sir-MuEl/demo/blob/master/Excellent_Store.ipynb\" target=\"_parent\"><img src=\"https://colab.research.google.com/assets/colab-badge.svg\" alt=\"Open In Colab\"/></a>"
      ]
    },
    {
      "cell_type": "code",
      "execution_count": null,
      "metadata": {
        "id": "_DeNiEwz-bay"
      },
      "outputs": [],
      "source": [
        "import numpy as np\n",
        "import pandas as pd\n",
        "import matplotlib.pyplot as plt\n",
        "import seaborn as sns\n",
        "%matplotlib inline"
      ]
    },
    {
      "cell_type": "code",
      "execution_count": null,
      "metadata": {
        "id": "DCKCdKOe-ba3"
      },
      "outputs": [],
      "source": [
        "df_train = pd.read_csv('train.csv')\n",
        "df_test = pd.read_csv('test.csv')\n",
        "train = df_train.copy()\n",
        "test = df_test.copy()"
      ]
    },
    {
      "cell_type": "code",
      "execution_count": null,
      "metadata": {
        "id": "vVARrlRo-ba4",
        "outputId": "f08f76d1-f08e-4f46-e8ac-bbe7c5eefc3d"
      },
      "outputs": [
        {
          "data": {
            "text/plain": [
              "(4990, 13)"
            ]
          },
          "execution_count": 3,
          "metadata": {},
          "output_type": "execute_result"
        }
      ],
      "source": [
        "train.shape"
      ]
    },
    {
      "cell_type": "code",
      "execution_count": null,
      "metadata": {
        "id": "r7LVXW8N-ba8",
        "outputId": "18230b96-5bc0-4d58-b3b3-0c9ad058e0ea"
      },
      "outputs": [
        {
          "data": {
            "text/plain": [
              "(3532, 12)"
            ]
          },
          "execution_count": 4,
          "metadata": {},
          "output_type": "execute_result"
        }
      ],
      "source": [
        "test.shape"
      ]
    },
    {
      "cell_type": "code",
      "execution_count": null,
      "metadata": {
        "id": "2Ol3hses-ba9",
        "outputId": "7de75b9e-1fde-4849-cc96-6edfb4b93705"
      },
      "outputs": [
        {
          "data": {
            "text/html": [
              "<div>\n",
              "<style scoped>\n",
              "    .dataframe tbody tr th:only-of-type {\n",
              "        vertical-align: middle;\n",
              "    }\n",
              "\n",
              "    .dataframe tbody tr th {\n",
              "        vertical-align: top;\n",
              "    }\n",
              "\n",
              "    .dataframe thead th {\n",
              "        text-align: right;\n",
              "    }\n",
              "</style>\n",
              "<table border=\"1\" class=\"dataframe\">\n",
              "  <thead>\n",
              "    <tr style=\"text-align: right;\">\n",
              "      <th></th>\n",
              "      <th>Item_ID</th>\n",
              "      <th>Store_ID</th>\n",
              "      <th>Item_Store_ID</th>\n",
              "      <th>Item_Weight</th>\n",
              "      <th>Item_Sugar_Content</th>\n",
              "      <th>Item_Visibility</th>\n",
              "      <th>Item_Type</th>\n",
              "      <th>Item_Price</th>\n",
              "      <th>Store_Start_Year</th>\n",
              "      <th>Store_Size</th>\n",
              "      <th>Store_Location_Type</th>\n",
              "      <th>Store_Type</th>\n",
              "      <th>Item_Store_Returns</th>\n",
              "    </tr>\n",
              "  </thead>\n",
              "  <tbody>\n",
              "    <tr>\n",
              "      <th>0</th>\n",
              "      <td>DRA12</td>\n",
              "      <td>BABATUNJI010</td>\n",
              "      <td>DRA12_BABATUNJI010</td>\n",
              "      <td>11.6</td>\n",
              "      <td>Low Sugar</td>\n",
              "      <td>0.068535</td>\n",
              "      <td>Soft Drinks</td>\n",
              "      <td>357.54</td>\n",
              "      <td>2005</td>\n",
              "      <td>NaN</td>\n",
              "      <td>Cluster 3</td>\n",
              "      <td>Grocery Store</td>\n",
              "      <td>709.08</td>\n",
              "    </tr>\n",
              "    <tr>\n",
              "      <th>1</th>\n",
              "      <td>DRA12</td>\n",
              "      <td>BABATUNJI013</td>\n",
              "      <td>DRA12_BABATUNJI013</td>\n",
              "      <td>11.6</td>\n",
              "      <td>Low Sugar</td>\n",
              "      <td>0.040912</td>\n",
              "      <td>Soft Drinks</td>\n",
              "      <td>355.79</td>\n",
              "      <td>1994</td>\n",
              "      <td>High</td>\n",
              "      <td>Cluster 3</td>\n",
              "      <td>Supermarket Type1</td>\n",
              "      <td>6381.69</td>\n",
              "    </tr>\n",
              "    <tr>\n",
              "      <th>2</th>\n",
              "      <td>DRA12</td>\n",
              "      <td>BABATUNJI017</td>\n",
              "      <td>DRA12_BABATUNJI017</td>\n",
              "      <td>11.6</td>\n",
              "      <td>Low Sugar</td>\n",
              "      <td>0.041178</td>\n",
              "      <td>Soft Drinks</td>\n",
              "      <td>350.79</td>\n",
              "      <td>2014</td>\n",
              "      <td>NaN</td>\n",
              "      <td>Cluster 2</td>\n",
              "      <td>Supermarket Type1</td>\n",
              "      <td>6381.69</td>\n",
              "    </tr>\n",
              "    <tr>\n",
              "      <th>3</th>\n",
              "      <td>DRA12</td>\n",
              "      <td>BABATUNJI018</td>\n",
              "      <td>DRA12_BABATUNJI018</td>\n",
              "      <td>11.6</td>\n",
              "      <td>Low Sugar</td>\n",
              "      <td>0.041113</td>\n",
              "      <td>Soft Drinks</td>\n",
              "      <td>355.04</td>\n",
              "      <td>2016</td>\n",
              "      <td>Medium</td>\n",
              "      <td>Cluster 3</td>\n",
              "      <td>Supermarket Type2</td>\n",
              "      <td>2127.23</td>\n",
              "    </tr>\n",
              "    <tr>\n",
              "      <th>4</th>\n",
              "      <td>DRA12</td>\n",
              "      <td>BABATUNJI035</td>\n",
              "      <td>DRA12_BABATUNJI035</td>\n",
              "      <td>11.6</td>\n",
              "      <td>Ultra Low Sugar</td>\n",
              "      <td>0.000000</td>\n",
              "      <td>Soft Drinks</td>\n",
              "      <td>354.79</td>\n",
              "      <td>2011</td>\n",
              "      <td>Small</td>\n",
              "      <td>Cluster 2</td>\n",
              "      <td>Supermarket Type1</td>\n",
              "      <td>2481.77</td>\n",
              "    </tr>\n",
              "  </tbody>\n",
              "</table>\n",
              "</div>"
            ],
            "text/plain": [
              "  Item_ID      Store_ID       Item_Store_ID  Item_Weight Item_Sugar_Content  \\\n",
              "0   DRA12  BABATUNJI010  DRA12_BABATUNJI010         11.6          Low Sugar   \n",
              "1   DRA12  BABATUNJI013  DRA12_BABATUNJI013         11.6          Low Sugar   \n",
              "2   DRA12  BABATUNJI017  DRA12_BABATUNJI017         11.6          Low Sugar   \n",
              "3   DRA12  BABATUNJI018  DRA12_BABATUNJI018         11.6          Low Sugar   \n",
              "4   DRA12  BABATUNJI035  DRA12_BABATUNJI035         11.6    Ultra Low Sugar   \n",
              "\n",
              "   Item_Visibility    Item_Type  Item_Price  Store_Start_Year Store_Size  \\\n",
              "0         0.068535  Soft Drinks      357.54              2005        NaN   \n",
              "1         0.040912  Soft Drinks      355.79              1994       High   \n",
              "2         0.041178  Soft Drinks      350.79              2014        NaN   \n",
              "3         0.041113  Soft Drinks      355.04              2016     Medium   \n",
              "4         0.000000  Soft Drinks      354.79              2011      Small   \n",
              "\n",
              "  Store_Location_Type         Store_Type  Item_Store_Returns  \n",
              "0           Cluster 3      Grocery Store              709.08  \n",
              "1           Cluster 3  Supermarket Type1             6381.69  \n",
              "2           Cluster 2  Supermarket Type1             6381.69  \n",
              "3           Cluster 3  Supermarket Type2             2127.23  \n",
              "4           Cluster 2  Supermarket Type1             2481.77  "
            ]
          },
          "execution_count": 5,
          "metadata": {},
          "output_type": "execute_result"
        }
      ],
      "source": [
        "train.head()"
      ]
    },
    {
      "cell_type": "code",
      "execution_count": null,
      "metadata": {
        "id": "RVNhwMx4-ba-",
        "outputId": "d9a7a033-0921-4a82-d4fb-7b137d68352e"
      },
      "outputs": [
        {
          "data": {
            "text/html": [
              "<div>\n",
              "<style scoped>\n",
              "    .dataframe tbody tr th:only-of-type {\n",
              "        vertical-align: middle;\n",
              "    }\n",
              "\n",
              "    .dataframe tbody tr th {\n",
              "        vertical-align: top;\n",
              "    }\n",
              "\n",
              "    .dataframe thead th {\n",
              "        text-align: right;\n",
              "    }\n",
              "</style>\n",
              "<table border=\"1\" class=\"dataframe\">\n",
              "  <thead>\n",
              "    <tr style=\"text-align: right;\">\n",
              "      <th></th>\n",
              "      <th>Item_ID</th>\n",
              "      <th>Store_ID</th>\n",
              "      <th>Item_Store_ID</th>\n",
              "      <th>Item_Weight</th>\n",
              "      <th>Item_Sugar_Content</th>\n",
              "      <th>Item_Visibility</th>\n",
              "      <th>Item_Type</th>\n",
              "      <th>Item_Price</th>\n",
              "      <th>Store_Start_Year</th>\n",
              "      <th>Store_Size</th>\n",
              "      <th>Store_Location_Type</th>\n",
              "      <th>Store_Type</th>\n",
              "    </tr>\n",
              "  </thead>\n",
              "  <tbody>\n",
              "    <tr>\n",
              "      <th>0</th>\n",
              "      <td>DRA59</td>\n",
              "      <td>BABATUNJI010</td>\n",
              "      <td>DRA59_BABATUNJI010</td>\n",
              "      <td>8.270</td>\n",
              "      <td>Normal Sugar</td>\n",
              "      <td>0.214125</td>\n",
              "      <td>Soft Drinks</td>\n",
              "      <td>459.98</td>\n",
              "      <td>2005</td>\n",
              "      <td>NaN</td>\n",
              "      <td>Cluster 3</td>\n",
              "      <td>Grocery Store</td>\n",
              "    </tr>\n",
              "    <tr>\n",
              "      <th>1</th>\n",
              "      <td>DRA59</td>\n",
              "      <td>BABATUNJI013</td>\n",
              "      <td>DRA59_BABATUNJI013</td>\n",
              "      <td>8.270</td>\n",
              "      <td>Normal Sugar</td>\n",
              "      <td>0.127821</td>\n",
              "      <td>Soft Drinks</td>\n",
              "      <td>464.98</td>\n",
              "      <td>1994</td>\n",
              "      <td>High</td>\n",
              "      <td>Cluster 3</td>\n",
              "      <td>Supermarket Type1</td>\n",
              "    </tr>\n",
              "    <tr>\n",
              "      <th>2</th>\n",
              "      <td>DRB01</td>\n",
              "      <td>BABATUNJI013</td>\n",
              "      <td>DRB01_BABATUNJI013</td>\n",
              "      <td>7.390</td>\n",
              "      <td>Low Sugar</td>\n",
              "      <td>0.082171</td>\n",
              "      <td>Soft Drinks</td>\n",
              "      <td>477.38</td>\n",
              "      <td>1994</td>\n",
              "      <td>High</td>\n",
              "      <td>Cluster 3</td>\n",
              "      <td>Supermarket Type1</td>\n",
              "    </tr>\n",
              "    <tr>\n",
              "      <th>3</th>\n",
              "      <td>DRB13</td>\n",
              "      <td>BABATUNJI010</td>\n",
              "      <td>DRB13_BABATUNJI010</td>\n",
              "      <td>6.115</td>\n",
              "      <td>Normal Sugar</td>\n",
              "      <td>0.011791</td>\n",
              "      <td>Soft Drinks</td>\n",
              "      <td>472.63</td>\n",
              "      <td>2005</td>\n",
              "      <td>NaN</td>\n",
              "      <td>Cluster 3</td>\n",
              "      <td>Grocery Store</td>\n",
              "    </tr>\n",
              "    <tr>\n",
              "      <th>4</th>\n",
              "      <td>DRB13</td>\n",
              "      <td>BABATUNJI013</td>\n",
              "      <td>DRB13_BABATUNJI013</td>\n",
              "      <td>6.115</td>\n",
              "      <td>Normal Sugar</td>\n",
              "      <td>0.007038</td>\n",
              "      <td>Soft Drinks</td>\n",
              "      <td>473.13</td>\n",
              "      <td>1994</td>\n",
              "      <td>High</td>\n",
              "      <td>Cluster 3</td>\n",
              "      <td>Supermarket Type1</td>\n",
              "    </tr>\n",
              "  </tbody>\n",
              "</table>\n",
              "</div>"
            ],
            "text/plain": [
              "  Item_ID      Store_ID       Item_Store_ID  Item_Weight Item_Sugar_Content  \\\n",
              "0   DRA59  BABATUNJI010  DRA59_BABATUNJI010        8.270       Normal Sugar   \n",
              "1   DRA59  BABATUNJI013  DRA59_BABATUNJI013        8.270       Normal Sugar   \n",
              "2   DRB01  BABATUNJI013  DRB01_BABATUNJI013        7.390          Low Sugar   \n",
              "3   DRB13  BABATUNJI010  DRB13_BABATUNJI010        6.115       Normal Sugar   \n",
              "4   DRB13  BABATUNJI013  DRB13_BABATUNJI013        6.115       Normal Sugar   \n",
              "\n",
              "   Item_Visibility    Item_Type  Item_Price  Store_Start_Year Store_Size  \\\n",
              "0         0.214125  Soft Drinks      459.98              2005        NaN   \n",
              "1         0.127821  Soft Drinks      464.98              1994       High   \n",
              "2         0.082171  Soft Drinks      477.38              1994       High   \n",
              "3         0.011791  Soft Drinks      472.63              2005        NaN   \n",
              "4         0.007038  Soft Drinks      473.13              1994       High   \n",
              "\n",
              "  Store_Location_Type         Store_Type  \n",
              "0           Cluster 3      Grocery Store  \n",
              "1           Cluster 3  Supermarket Type1  \n",
              "2           Cluster 3  Supermarket Type1  \n",
              "3           Cluster 3      Grocery Store  \n",
              "4           Cluster 3  Supermarket Type1  "
            ]
          },
          "execution_count": 6,
          "metadata": {},
          "output_type": "execute_result"
        }
      ],
      "source": [
        "test.head()"
      ]
    },
    {
      "cell_type": "code",
      "execution_count": null,
      "metadata": {
        "id": "Kzs3oZaq-ba_"
      },
      "outputs": [],
      "source": [
        "g = train[train['Store_Size'].notna()]"
      ]
    },
    {
      "cell_type": "code",
      "execution_count": null,
      "metadata": {
        "id": "BmFcohB8-bbA",
        "outputId": "9bf673a1-1d6d-4107-dc83-0898c092e13b"
      },
      "outputs": [
        {
          "data": {
            "image/png": "[encoded data removed]",
            "text/plain": [
              "<Figure size 864x576 with 1 Axes>"
            ]
          },
          "metadata": {
            "needs_background": "light"
          },
          "output_type": "display_data"
        }
      ],
      "source": [
        "plot = sns.catplot(x = 'Store_Size', y = 'Item_Store_Returns', data = g, hue = 'Store_Location_Type', kind = 'bar')\n",
        "plot.fig.set_figwidth(12)\n",
        "plot.fig.set_figheight(8)"
      ]
    },
    {
      "cell_type": "code",
      "execution_count": null,
      "metadata": {
        "id": "Y8m8qlfx-bbB",
        "outputId": "260e3965-961c-4ad4-d43a-1d87393418da"
      },
      "outputs": [
        {
          "data": {
            "image/png": "[encoded data removed]",
            "text/plain": [
              "<Figure size 864x576 with 1 Axes>"
            ]
          },
          "metadata": {
            "needs_background": "light"
          },
          "output_type": "display_data"
        }
      ],
      "source": [
        "plot = sns.catplot(x = 'Store_Size', y = 'Item_Store_Returns', data = g, hue = 'Store_Type', kind = 'bar')\n",
        "plot.fig.set_figwidth(12)\n",
        "plot.fig.set_figheight(8)"
      ]
    },
    {
      "cell_type": "code",
      "execution_count": null,
      "metadata": {
        "id": "cwERgccB-bbD"
      },
      "outputs": [],
      "source": [
        "f = test[test['Store_Size'].notna()]"
      ]
    },
    {
      "cell_type": "code",
      "execution_count": null,
      "metadata": {
        "id": "aBeq09aI-bbE",
        "outputId": "aa31fd10-eb68-4f1f-9426-b442fe575a9b"
      },
      "outputs": [
        {
          "data": {
            "text/plain": [
              "Grocery Store    188\n",
              "Name: Store_Type, dtype: int64"
            ]
          },
          "execution_count": 11,
          "metadata": {},
          "output_type": "execute_result"
        }
      ],
      "source": [
        "f[f['Store_Type'] == 'Grocery Store']['Store_Type'].value_counts()"
      ]
    },
    {
      "cell_type": "code",
      "execution_count": null,
      "metadata": {
        "id": "fx3wOI_c-bbF"
      },
      "outputs": [],
      "source": [
        "def impute(col):\n",
        "    Type = col[0]\n",
        "    Size = col[1]\n",
        "    \n",
        "    if pd.isna(Size):\n",
        "        if Type == 'Grocery Store':\n",
        "            return 'Small'\n",
        "        else:\n",
        "            return (Size)\n",
        "    else:\n",
        "        return (Size)"
      ]
    },
    {
      "cell_type": "code",
      "execution_count": null,
      "metadata": {
        "id": "HEgnbfA7-bbH"
      },
      "outputs": [],
      "source": [
        "train['Store_Size'] = train[['Store_Type', 'Store_Size']].apply(impute, axis=1)"
      ]
    },
    {
      "cell_type": "code",
      "execution_count": null,
      "metadata": {
        "id": "d_NRLurT-bbI"
      },
      "outputs": [],
      "source": [
        "def impute_cluster(col):\n",
        "    Loc_Type = col[0]\n",
        "    Size = col[1]\n",
        "    \n",
        "    if pd.isna(Size):\n",
        "        if Loc_Type == 'Cluster 2':\n",
        "            return('Small')\n",
        "        else:\n",
        "            return (Size)\n",
        "    else:\n",
        "        return (Size)"
      ]
    },
    {
      "cell_type": "code",
      "execution_count": null,
      "metadata": {
        "id": "awj1Rlqc-bbJ"
      },
      "outputs": [],
      "source": [
        "train['Store_Size'] = train[['Store_Location_Type', 'Store_Size']].apply(impute_cluster, axis =1)"
      ]
    },
    {
      "cell_type": "code",
      "execution_count": null,
      "metadata": {
        "id": "Q4O2MKCt-bbJ"
      },
      "outputs": [],
      "source": [
        "test['Store_Size'].fillna('Small', inplace = True)"
      ]
    },
    {
      "cell_type": "code",
      "execution_count": null,
      "metadata": {
        "id": "337DboCn-bbK"
      },
      "outputs": [],
      "source": [
        "train['Item_Weight'].fillna(np.mean(train['Item_Weight']), inplace = True)\n",
        "test['Item_Weight'].fillna(np.mean(train['Item_Weight']), inplace =True)"
      ]
    },
    {
      "cell_type": "markdown",
      "metadata": {
        "id": "FBBXwQgR-bbL"
      },
      "source": [
        "Label Binarizer / pd.getdummies - [Store_Type, Store Location Type]\n",
        "Label Encoder / Ordinal Encoder - ['Store Size', 'Item Sugar Content', 'Item Type', 'Store Start Year', 'Store ID']"
      ]
    },
    {
      "cell_type": "code",
      "execution_count": null,
      "metadata": {
        "id": "sBIi42Py-bbO"
      },
      "outputs": [],
      "source": [
        "Train_Value = train['Item_Store_Returns']\n",
        "y = Train_Value.copy()\n",
        "train.drop(['Item_Store_Returns'], inplace = True, axis =1)"
      ]
    },
    {
      "cell_type": "code",
      "execution_count": null,
      "metadata": {
        "id": "rcd2tc8L-bbP"
      },
      "outputs": [],
      "source": [
        "bin_cols = ['Store_Location_Type', 'Store_Type', 'Item_Sugar_Content', 'Store_Size']\n",
        "orcoder_cols = ['Store_ID', 'Item_Type', 'Store_Start_Year']"
      ]
    },
    {
      "cell_type": "code",
      "execution_count": null,
      "metadata": {
        "id": "HohzycNL-bbQ"
      },
      "outputs": [],
      "source": [
        "all_data = pd.concat([train, test], )\n",
        "a_data = all_data.copy()\n",
        "a_data = pd.get_dummies(all_data, prefix_sep = '-', columns = bin_cols, drop_first = True, )"
      ]
    },
    {
      "cell_type": "code",
      "execution_count": null,
      "metadata": {
        "id": "ctyaRcG8-bbR"
      },
      "outputs": [],
      "source": [
        "from sklearn.preprocessing import OrdinalEncoder\n",
        "orcoder = OrdinalEncoder()\n",
        "\n",
        "a_data[orcoder_cols] = orcoder.fit_transform(a_data[orcoder_cols])"
      ]
    },
    {
      "cell_type": "code",
      "execution_count": null,
      "metadata": {
        "id": "5lnn-5Ew-bbR"
      },
      "outputs": [],
      "source": [
        "a_data['Price_Per_Weight'] = a_data['Item_Price'] / a_data['Item_Weight']\n",
        "a_data['Visbility_Per_Weight'] = a_data['Item_Visibility'] / a_data['Item_Weight']\n",
        "a_data['Item_Volume'] = a_data['Item_Visibility'] * a_data['Item_Weight']\n",
        "a_data['Tangibility'] = a_data['Item_Visibility'] * a_data['Item_Price']\n",
        "a_data.drop(['Item_ID', 'Item_Store_ID'], axis = 1, inplace = True)\n",
        "\n",
        "from sklearn.preprocessing import StandardScaler\n",
        "scaler = StandardScaler()\n",
        "a_data['Item_Price_Scaled'] = scaler.fit_transform(np.array(a_data['Item_Price']).reshape(-1,1))"
      ]
    },
    {
      "cell_type": "code",
      "execution_count": null,
      "metadata": {
        "id": "9QgLNAF5-bbV"
      },
      "outputs": [],
      "source": [
        "r = train.shape[0]\n",
        "\n",
        "new_train = a_data[:r]\n",
        "new_test = a_data[r:]"
      ]
    },
    {
      "cell_type": "code",
      "execution_count": null,
      "metadata": {
        "id": "_Mw01o3R-bbV",
        "outputId": "ab567a4c-dfda-4742-a8c3-e920671868dc"
      },
      "outputs": [
        {
          "data": {
            "text/html": [
              "<div>\n",
              "<style scoped>\n",
              "    .dataframe tbody tr th:only-of-type {\n",
              "        vertical-align: middle;\n",
              "    }\n",
              "\n",
              "    .dataframe tbody tr th {\n",
              "        vertical-align: top;\n",
              "    }\n",
              "\n",
              "    .dataframe thead th {\n",
              "        text-align: right;\n",
              "    }\n",
              "</style>\n",
              "<table border=\"1\" class=\"dataframe\">\n",
              "  <thead>\n",
              "    <tr style=\"text-align: right;\">\n",
              "      <th></th>\n",
              "      <th>Store_ID</th>\n",
              "      <th>Item_Weight</th>\n",
              "      <th>Item_Visibility</th>\n",
              "      <th>Item_Type</th>\n",
              "      <th>Item_Price</th>\n",
              "      <th>Store_Start_Year</th>\n",
              "      <th>Store_Location_Type-Cluster 2</th>\n",
              "      <th>Store_Location_Type-Cluster 3</th>\n",
              "      <th>Store_Type-Supermarket Type1</th>\n",
              "      <th>Store_Type-Supermarket Type2</th>\n",
              "      <th>Store_Type-Supermarket Type3</th>\n",
              "      <th>Item_Sugar_Content-Normal Sugar</th>\n",
              "      <th>Item_Sugar_Content-Ultra Low Sugar</th>\n",
              "      <th>Store_Size-Medium</th>\n",
              "      <th>Store_Size-Small</th>\n",
              "      <th>Price_Per_Weight</th>\n",
              "      <th>Visbility_Per_Weight</th>\n",
              "      <th>Item_Volume</th>\n",
              "      <th>Tangibility</th>\n",
              "      <th>Item_Price_Scaled</th>\n",
              "    </tr>\n",
              "  </thead>\n",
              "  <tbody>\n",
              "    <tr>\n",
              "      <th>0</th>\n",
              "      <td>0.0</td>\n",
              "      <td>11.6</td>\n",
              "      <td>0.068535</td>\n",
              "      <td>14.0</td>\n",
              "      <td>357.54</td>\n",
              "      <td>3.0</td>\n",
              "      <td>0</td>\n",
              "      <td>1</td>\n",
              "      <td>0</td>\n",
              "      <td>0</td>\n",
              "      <td>0</td>\n",
              "      <td>0</td>\n",
              "      <td>0</td>\n",
              "      <td>0</td>\n",
              "      <td>1</td>\n",
              "      <td>30.822414</td>\n",
              "      <td>0.005908</td>\n",
              "      <td>0.795006</td>\n",
              "      <td>24.504018</td>\n",
              "      <td>0.032555</td>\n",
              "    </tr>\n",
              "    <tr>\n",
              "      <th>1</th>\n",
              "      <td>1.0</td>\n",
              "      <td>11.6</td>\n",
              "      <td>0.040912</td>\n",
              "      <td>14.0</td>\n",
              "      <td>355.79</td>\n",
              "      <td>1.0</td>\n",
              "      <td>0</td>\n",
              "      <td>1</td>\n",
              "      <td>1</td>\n",
              "      <td>0</td>\n",
              "      <td>0</td>\n",
              "      <td>0</td>\n",
              "      <td>0</td>\n",
              "      <td>0</td>\n",
              "      <td>0</td>\n",
              "      <td>30.671552</td>\n",
              "      <td>0.003527</td>\n",
              "      <td>0.474577</td>\n",
              "      <td>14.556018</td>\n",
              "      <td>0.021314</td>\n",
              "    </tr>\n",
              "    <tr>\n",
              "      <th>2</th>\n",
              "      <td>2.0</td>\n",
              "      <td>11.6</td>\n",
              "      <td>0.041178</td>\n",
              "      <td>14.0</td>\n",
              "      <td>350.79</td>\n",
              "      <td>7.0</td>\n",
              "      <td>1</td>\n",
              "      <td>0</td>\n",
              "      <td>1</td>\n",
              "      <td>0</td>\n",
              "      <td>0</td>\n",
              "      <td>0</td>\n",
              "      <td>0</td>\n",
              "      <td>0</td>\n",
              "      <td>1</td>\n",
              "      <td>30.240517</td>\n",
              "      <td>0.003550</td>\n",
              "      <td>0.477659</td>\n",
              "      <td>14.444657</td>\n",
              "      <td>-0.010802</td>\n",
              "    </tr>\n",
              "    <tr>\n",
              "      <th>3</th>\n",
              "      <td>3.0</td>\n",
              "      <td>11.6</td>\n",
              "      <td>0.041113</td>\n",
              "      <td>14.0</td>\n",
              "      <td>355.04</td>\n",
              "      <td>8.0</td>\n",
              "      <td>0</td>\n",
              "      <td>1</td>\n",
              "      <td>0</td>\n",
              "      <td>1</td>\n",
              "      <td>0</td>\n",
              "      <td>0</td>\n",
              "      <td>0</td>\n",
              "      <td>1</td>\n",
              "      <td>0</td>\n",
              "      <td>30.606897</td>\n",
              "      <td>0.003544</td>\n",
              "      <td>0.476907</td>\n",
              "      <td>14.596651</td>\n",
              "      <td>0.016497</td>\n",
              "    </tr>\n",
              "    <tr>\n",
              "      <th>4</th>\n",
              "      <td>6.0</td>\n",
              "      <td>11.6</td>\n",
              "      <td>0.000000</td>\n",
              "      <td>14.0</td>\n",
              "      <td>354.79</td>\n",
              "      <td>6.0</td>\n",
              "      <td>1</td>\n",
              "      <td>0</td>\n",
              "      <td>1</td>\n",
              "      <td>0</td>\n",
              "      <td>0</td>\n",
              "      <td>0</td>\n",
              "      <td>1</td>\n",
              "      <td>0</td>\n",
              "      <td>1</td>\n",
              "      <td>30.585345</td>\n",
              "      <td>0.000000</td>\n",
              "      <td>0.000000</td>\n",
              "      <td>0.000000</td>\n",
              "      <td>0.014891</td>\n",
              "    </tr>\n",
              "  </tbody>\n",
              "</table>\n",
              "</div>"
            ],
            "text/plain": [
              "   Store_ID  Item_Weight  Item_Visibility  Item_Type  Item_Price  \\\n",
              "0       0.0         11.6         0.068535       14.0      357.54   \n",
              "1       1.0         11.6         0.040912       14.0      355.79   \n",
              "2       2.0         11.6         0.041178       14.0      350.79   \n",
              "3       3.0         11.6         0.041113       14.0      355.04   \n",
              "4       6.0         11.6         0.000000       14.0      354.79   \n",
              "\n",
              "   Store_Start_Year  Store_Location_Type-Cluster 2  \\\n",
              "0               3.0                              0   \n",
              "1               1.0                              0   \n",
              "2               7.0                              1   \n",
              "3               8.0                              0   \n",
              "4               6.0                              1   \n",
              "\n",
              "   Store_Location_Type-Cluster 3  Store_Type-Supermarket Type1  \\\n",
              "0                              1                             0   \n",
              "1                              1                             1   \n",
              "2                              0                             1   \n",
              "3                              1                             0   \n",
              "4                              0                             1   \n",
              "\n",
              "   Store_Type-Supermarket Type2  Store_Type-Supermarket Type3  \\\n",
              "0                             0                             0   \n",
              "1                             0                             0   \n",
              "2                             0                             0   \n",
              "3                             1                             0   \n",
              "4                             0                             0   \n",
              "\n",
              "   Item_Sugar_Content-Normal Sugar  Item_Sugar_Content-Ultra Low Sugar  \\\n",
              "0                                0                                   0   \n",
              "1                                0                                   0   \n",
              "2                                0                                   0   \n",
              "3                                0                                   0   \n",
              "4                                0                                   1   \n",
              "\n",
              "   Store_Size-Medium  Store_Size-Small  Price_Per_Weight  \\\n",
              "0                  0                 1         30.822414   \n",
              "1                  0                 0         30.671552   \n",
              "2                  0                 1         30.240517   \n",
              "3                  1                 0         30.606897   \n",
              "4                  0                 1         30.585345   \n",
              "\n",
              "   Visbility_Per_Weight  Item_Volume  Tangibility  Item_Price_Scaled  \n",
              "0              0.005908     0.795006    24.504018           0.032555  \n",
              "1              0.003527     0.474577    14.556018           0.021314  \n",
              "2              0.003550     0.477659    14.444657          -0.010802  \n",
              "3              0.003544     0.476907    14.596651           0.016497  \n",
              "4              0.000000     0.000000     0.000000           0.014891  "
            ]
          },
          "execution_count": 24,
          "metadata": {},
          "output_type": "execute_result"
        }
      ],
      "source": [
        "new_train.head()"
      ]
    },
    {
      "cell_type": "code",
      "execution_count": null,
      "metadata": {
        "id": "h7nNQlrw-bbW"
      },
      "outputs": [],
      "source": [
        "import xgboost as xgb\n",
        "from sklearn.neural_network import MLPRegressor\n",
        "from sklearn.ensemble import RandomForestRegressor\n",
        "from sklearn.linear_model import LinearRegression\n",
        "from sklearn.feature_selection import RFE\n",
        "from sklearn.svm import SVR\n",
        "from sklearn.model_selection import train_test_split\n",
        "from sklearn.metrics import mean_squared_error\n",
        "from sklearn.model_selection import cross_val_score\n",
        "from sklearn.model_selection import GridSearchCV\n",
        "from sklearn.linear_model import SGDRegressor"
      ]
    },
    {
      "cell_type": "markdown",
      "metadata": {
        "id": "3MYtCV0Q-bbX"
      },
      "source": [
        "**Linear Regression**"
      ]
    },
    {
      "cell_type": "code",
      "execution_count": null,
      "metadata": {
        "id": "pJ0gmGwC-bbX",
        "outputId": "64ad7097-9c6b-4c14-ddcc-5d7c8bc79ea3"
      },
      "outputs": [
        {
          "name": "stdout",
          "output_type": "stream",
          "text": [
            "{6: 'Store_ID', 11: 'Item_Weight', 2: 'Item_Visibility', 12: 'Item_Type', 10: 'Item_Price', 5: 'Store_Start_Year', 1: 'Visbility_Per_Weight', 4: 'Store_Location_Type-Cluster 3', 7: 'Item_Sugar_Content-Normal Sugar', 8: 'Item_Sugar_Content-Ultra Low Sugar', 13: 'Price_Per_Weight', 3: 'Item_Volume', 9: 'Tangibility', 14: 'Item_Price_Scaled'}\n"
          ]
        }
      ],
      "source": [
        "model = LinearRegression()\n",
        "#Initializing RFE model\n",
        "rfe = RFE(model, 7)\n",
        "#Transforming data using RFE\n",
        "X_rfe = rfe.fit_transform(new_train, y)  \n",
        "#Fitting the data to model\n",
        "model.fit(X_rfe,y)\n",
        "#print('\\n', rfe.support_)\n",
        "#print('\\n', rfe.ranking_)\n",
        "\n",
        "col = new_train.columns\n",
        "val = rfe.ranking_\n",
        "\n",
        "feat_importance = dict(zip(val, col))\n",
        "\n",
        "print (feat_importance)"
      ]
    },
    {
      "cell_type": "code",
      "execution_count": null,
      "metadata": {
        "id": "LMhUkwUO-bbY"
      },
      "outputs": [],
      "source": [
        "lin_reg_cols = []\n",
        "for i in feat_importance:\n",
        "    if i <= 14:\n",
        "        lin_reg_cols.append(feat_importance[i])"
      ]
    },
    {
      "cell_type": "code",
      "execution_count": null,
      "metadata": {
        "id": "e8aTGXoA-bbZ"
      },
      "outputs": [],
      "source": [
        "lin_reg = LinearRegression()\n",
        "\n",
        "new_train_lin_reg = new_train[lin_reg_cols]\n",
        "new_test_lin_reg = new_test[lin_reg_cols]\n",
        "\n",
        "X_train_lin_reg, X_test_lin_reg, y_train, y_test = train_test_split(new_train_lin_reg, y, test_size = 0.2, random_state = 101)\n",
        "lin_reg.fit(X_train_lin_reg, y_train)\n",
        "pred_lin_reg =lin_reg.predict(X_test_lin_reg)"
      ]
    },
    {
      "cell_type": "code",
      "execution_count": null,
      "metadata": {
        "id": "Z1PzrBbD-bba",
        "outputId": "0c368566-8bba-4736-f038-77808b2024e4"
      },
      "outputs": [
        {
          "data": {
            "text/plain": [
              "-3540.459317470225"
            ]
          },
          "execution_count": 29,
          "metadata": {},
          "output_type": "execute_result"
        }
      ],
      "source": [
        "cv_lin_reg = cross_val_score(lin_reg, new_train_lin_reg, y, scoring = 'neg_root_mean_squared_error', cv = 10)\n",
        "np.mean(cv_lin_reg)"
      ]
    },
    {
      "cell_type": "code",
      "execution_count": null,
      "metadata": {
        "id": "lgKasAov-bbb",
        "outputId": "0dd698a3-4966-4857-fba0-52d30775c5bf"
      },
      "outputs": [
        {
          "name": "stdout",
          "output_type": "stream",
          "text": [
            "3612.4292226605526\n"
          ]
        }
      ],
      "source": [
        "print(np.sqrt(mean_squared_error(y_test, pred_lin_reg)))"
      ]
    },
    {
      "cell_type": "markdown",
      "metadata": {
        "id": "XL338ZAD-bbb"
      },
      "source": [
        "**Random Forest Regressor**"
      ]
    },
    {
      "cell_type": "code",
      "execution_count": null,
      "metadata": {
        "id": "LRnQyiF--bbc",
        "outputId": "dc77009f-ca68-4860-c416-81948f2c308b"
      },
      "outputs": [
        {
          "name": "stdout",
          "output_type": "stream",
          "text": [
            "{7: 'Store_ID', 6: 'Item_Weight', 5: 'Item_Visibility', 4: 'Item_Type', 1: 'Item_Price_Scaled', 13: 'Store_Location_Type-Cluster 2', 11: 'Store_Location_Type-Cluster 3', 2: 'Store_Type-Supermarket Type1', 14: 'Store_Type-Supermarket Type2', 8: 'Item_Sugar_Content-Normal Sugar', 9: 'Item_Sugar_Content-Ultra Low Sugar', 12: 'Store_Size-Medium', 10: 'Store_Size-Small', 3: 'Item_Volume'}\n"
          ]
        }
      ],
      "source": [
        "model = RandomForestRegressor()\n",
        "#Initializing RFE model\n",
        "rfe = RFE(model, 7)\n",
        "#Transforming data using RFE\n",
        "X_rfe = rfe.fit_transform(new_train, y)  \n",
        "#Fitting the data to model\n",
        "model.fit(X_rfe,y)\n",
        "#print('\\n', rfe.support_)\n",
        "#print('\\n', rfe.ranking_)\n",
        "\n",
        "col = new_train.columns\n",
        "val = rfe.ranking_\n",
        "\n",
        "feat_importance = dict(zip(val, col))\n",
        "\n",
        "print (feat_importance)"
      ]
    },
    {
      "cell_type": "code",
      "execution_count": null,
      "metadata": {
        "id": "yy6g6U9V-bbd"
      },
      "outputs": [],
      "source": [
        "rforest_cols = []\n",
        "for i in feat_importance:\n",
        "    if i <= 8:\n",
        "        rforest_cols.append(feat_importance[i])"
      ]
    },
    {
      "cell_type": "markdown",
      "metadata": {
        "id": "j_pKpC7E-bbd"
      },
      "source": [
        "'''param_grid = {\n",
        "    'bootstrap': [True],\n",
        "    'max_depth': [120,130],\n",
        "    'max_features': ['log2', 'sqrt'],\n",
        "    'min_samples_leaf': [5,6],\n",
        "    'min_samples_split': [30,40],\n",
        "    'n_estimators': [350,400]\n",
        "}\n",
        "estimator = RandomForestRegressor()\n",
        "grid = GridSearchCV(estimator, param_grid, scoring = 'neg_root_mean_squared_error')\n",
        "grid.fit(X_train_rforest, y_train)\n",
        "\n",
        "print (grid.best_score_, grid.best_params_)\n",
        "forest = grid.best_estimator_\n",
        "print('\\n', forest)'''"
      ]
    },
    {
      "cell_type": "code",
      "execution_count": null,
      "metadata": {
        "id": "-lDWhBPQ-bbe"
      },
      "outputs": [],
      "source": [
        "rforest =   RandomForestRegressor(bootstrap=True, ccp_alpha=0.0, criterion='mse',\n",
        "                      max_depth=120, max_features='log2', max_leaf_nodes=None,\n",
        "                      max_samples=None, min_impurity_decrease=0.0,\n",
        "                      min_impurity_split=None, min_samples_leaf=5,\n",
        "                      min_samples_split=40, min_weight_fraction_leaf=0.0,\n",
        "                      n_estimators=400, n_jobs=None, oob_score=False,\n",
        "                      random_state=None, verbose=0, warm_start=False)\n",
        "new_train_rforest = new_train[rforest_cols]\n",
        "new_test_rforest = new_test[rforest_cols]\n",
        "\n",
        "X_train_rforest, X_test_rforest, y_train, y_test = train_test_split(new_train_rforest, y, test_size = 0.2, random_state = 101)\n",
        "rforest.fit(X_train_rforest, y_train)\n",
        "pred_rforest = rforest.predict(X_test_rforest)"
      ]
    },
    {
      "cell_type": "code",
      "execution_count": null,
      "metadata": {
        "id": "gUKziJRV-bbf",
        "outputId": "87f5b962-b9d7-4a3c-f9fd-b2fc4eb837cd"
      },
      "outputs": [
        {
          "data": {
            "text/plain": [
              "-2942.7112848641755"
            ]
          },
          "execution_count": 34,
          "metadata": {},
          "output_type": "execute_result"
        }
      ],
      "source": [
        "rforest_cv = cross_val_score(rforest, X_train_rforest, y_train, scoring = 'neg_root_mean_squared_error', cv = 10 )\n",
        "np.mean(rforest_cv)"
      ]
    },
    {
      "cell_type": "code",
      "execution_count": null,
      "metadata": {
        "id": "_O71uqwF-bbg",
        "outputId": "139a76eb-dc04-45a8-c150-5251ec81ee6e"
      },
      "outputs": [
        {
          "name": "stdout",
          "output_type": "stream",
          "text": [
            "3048.21119532155\n"
          ]
        }
      ],
      "source": [
        "print(np.sqrt(mean_squared_error(y_test, pred_rforest)))"
      ]
    },
    {
      "cell_type": "markdown",
      "metadata": {
        "id": "E4f3sU5K-bbg"
      },
      "source": [
        "**XGBoost**"
      ]
    },
    {
      "cell_type": "code",
      "execution_count": null,
      "metadata": {
        "id": "sAvIiO7Z-bbh"
      },
      "outputs": [],
      "source": [
        "import xgboost as xgb\n",
        "data_dmatrix = xgb.DMatrix(data=new_train,label=y)\n",
        "\n",
        "X_train_xgb, X_test_xgb, y_train, y_test = train_test_split(new_train, y, test_size=0.2, random_state=123)\n",
        "\n",
        "xg_reg = xgb.XGBRegressor(objective ='reg:squarederror', colsample_bytree = 0.3, learning_rate = 0.005,\n",
        "                max_depth = 5, alpha = 10, n_estimators = 1250)\n",
        "\n",
        "xg_reg.fit(X_train_xgb,y_train)\n",
        "\n",
        "pred_xgb = xg_reg.predict(X_test_xgb)"
      ]
    },
    {
      "cell_type": "code",
      "execution_count": null,
      "metadata": {
        "id": "XfRxkMJL-bbh",
        "outputId": "01665a03-9f4c-47dd-adf5-75b0f2e09658"
      },
      "outputs": [
        {
          "data": {
            "text/plain": [
              "2948.2716983361547"
            ]
          },
          "execution_count": 37,
          "metadata": {},
          "output_type": "execute_result"
        }
      ],
      "source": [
        "np.sqrt(mean_squared_error(y_test, pred_xgb))"
      ]
    },
    {
      "cell_type": "code",
      "execution_count": null,
      "metadata": {
        "id": "fo2ljUM4-bbi",
        "outputId": "b3c9c82a-d22c-4aed-bca6-fd589d80b742"
      },
      "outputs": [
        {
          "data": {
            "text/plain": [
              "2948.2716983361547"
            ]
          },
          "execution_count": 38,
          "metadata": {},
          "output_type": "execute_result"
        }
      ],
      "source": [
        "np.sqrt(mean_squared_error(y_test, pred_xgb))"
      ]
    },
    {
      "cell_type": "code",
      "execution_count": null,
      "metadata": {
        "id": "Xu_hwiVg-bbi",
        "outputId": "f3c3604d-1e51-4adc-9967-dbdb78f81bd7"
      },
      "outputs": [
        {
          "data": {
            "text/html": [
              "<div>\n",
              "<style scoped>\n",
              "    .dataframe tbody tr th:only-of-type {\n",
              "        vertical-align: middle;\n",
              "    }\n",
              "\n",
              "    .dataframe tbody tr th {\n",
              "        vertical-align: top;\n",
              "    }\n",
              "\n",
              "    .dataframe thead th {\n",
              "        text-align: right;\n",
              "    }\n",
              "</style>\n",
              "<table border=\"1\" class=\"dataframe\">\n",
              "  <thead>\n",
              "    <tr style=\"text-align: right;\">\n",
              "      <th></th>\n",
              "      <th>train-rmse-mean</th>\n",
              "      <th>train-rmse-std</th>\n",
              "      <th>test-rmse-mean</th>\n",
              "      <th>test-rmse-std</th>\n",
              "    </tr>\n",
              "  </thead>\n",
              "  <tbody>\n",
              "    <tr>\n",
              "      <th>1495</th>\n",
              "      <td>2455.518408</td>\n",
              "      <td>33.512358</td>\n",
              "      <td>2968.349463</td>\n",
              "      <td>123.047505</td>\n",
              "    </tr>\n",
              "    <tr>\n",
              "      <th>1496</th>\n",
              "      <td>2455.322998</td>\n",
              "      <td>33.566134</td>\n",
              "      <td>2968.393555</td>\n",
              "      <td>123.083472</td>\n",
              "    </tr>\n",
              "    <tr>\n",
              "      <th>1497</th>\n",
              "      <td>2455.129883</td>\n",
              "      <td>33.588729</td>\n",
              "      <td>2968.406934</td>\n",
              "      <td>123.083495</td>\n",
              "    </tr>\n",
              "    <tr>\n",
              "      <th>1498</th>\n",
              "      <td>2454.913574</td>\n",
              "      <td>33.657954</td>\n",
              "      <td>2968.388721</td>\n",
              "      <td>123.100813</td>\n",
              "    </tr>\n",
              "    <tr>\n",
              "      <th>1499</th>\n",
              "      <td>2454.695752</td>\n",
              "      <td>33.669131</td>\n",
              "      <td>2968.440088</td>\n",
              "      <td>123.154711</td>\n",
              "    </tr>\n",
              "  </tbody>\n",
              "</table>\n",
              "</div>"
            ],
            "text/plain": [
              "      train-rmse-mean  train-rmse-std  test-rmse-mean  test-rmse-std\n",
              "1495      2455.518408       33.512358     2968.349463     123.047505\n",
              "1496      2455.322998       33.566134     2968.393555     123.083472\n",
              "1497      2455.129883       33.588729     2968.406934     123.083495\n",
              "1498      2454.913574       33.657954     2968.388721     123.100813\n",
              "1499      2454.695752       33.669131     2968.440088     123.154711"
            ]
          },
          "execution_count": 39,
          "metadata": {},
          "output_type": "execute_result"
        }
      ],
      "source": [
        "params = {\"objective\":\"reg:squarederror\",'colsample_bytree': 0.3,'learning_rate': 0.005,\n",
        "                'max_depth': 5, 'alpha': 10}\n",
        "\n",
        "cv_results = xgb.cv(dtrain=data_dmatrix, params=params, nfold=5,\n",
        "                    num_boost_round=1500,metrics=\"rmse\", as_pandas=True, seed=123)\n",
        "cv_results.tail()"
      ]
    },
    {
      "cell_type": "code",
      "execution_count": null,
      "metadata": {
        "id": "DesMiWrc-bbj",
        "outputId": "aaad6a08-2597-4385-82cc-3e6f6bd37c83"
      },
      "outputs": [
        {
          "data": {
            "image/png": "[encoded data removed]",
            "text/plain": [
              "<Figure size 432x288 with 1 Axes>"
            ]
          },
          "metadata": {
            "needs_background": "light"
          },
          "output_type": "display_data"
        }
      ],
      "source": [
        "xgb.plot_importance(xg_reg)\n",
        "plt.rcParams['figure.figsize'] = [10, 10]\n",
        "plt.show()"
      ]
    },
    {
      "cell_type": "code",
      "execution_count": null,
      "metadata": {
        "id": "iDCNB9qp-bbk",
        "outputId": "68e30756-b4a8-4e3c-bd8c-81fd88e0319a"
      },
      "outputs": [
        {
          "data": {
            "text/plain": [
              "Index(['Store_ID', 'Item_Weight', 'Item_Visibility', 'Item_Type', 'Item_Price',\n",
              "       'Store_Start_Year', 'Store_Location_Type-Cluster 2',\n",
              "       'Store_Location_Type-Cluster 3', 'Store_Type-Supermarket Type1',\n",
              "       'Store_Type-Supermarket Type2', 'Store_Type-Supermarket Type3',\n",
              "       'Item_Sugar_Content-Normal Sugar', 'Item_Sugar_Content-Ultra Low Sugar',\n",
              "       'Store_Size-Medium', 'Store_Size-Small', 'Price_Per_Weight',\n",
              "       'Visbility_Per_Weight', 'Item_Volume', 'Tangibility',\n",
              "       'Item_Price_Scaled'],\n",
              "      dtype='object')"
            ]
          },
          "execution_count": 41,
          "metadata": {},
          "output_type": "execute_result"
        }
      ],
      "source": [
        "new_train.columns"
      ]
    },
    {
      "cell_type": "code",
      "execution_count": null,
      "metadata": {
        "id": "km2T323F-bbk"
      },
      "outputs": [],
      "source": [
        "exgb_cols = ['Item_Price', 'Price_Per_Weight', 'Item_Visibility', 'Visbility_Per_Weight', 'Item_Price_Scaled', 'Item_Volume', 'Tangibility', 'Item_Weight', 'Item_Type', 'Store_ID', 'Store_Start_Year','Item_Sugar_Content-Normal Sugar', 'Store_Type-Supermarket Type1', 'Store_Size-Medium','Store_Location_Type-Cluster 3', 'Store_Location_Type-Cluster 2','Store_Size-Small', 'Store_Type-Supermarket Type3', 'Item_Sugar_Content-Ultra Low Sugar','Store_Type-Supermarket Type2']"
      ]
    },
    {
      "cell_type": "code",
      "execution_count": null,
      "metadata": {
        "id": "fSh5qhHw-bbl"
      },
      "outputs": [],
      "source": [
        "#'Item_Price', 'Price_Per_Weight', 'Item_Visibility', 'Visbility_Per_Weight', 'Item_Price_Scaled', 'Item_Volume', 'Tangibility', 'Item_Weight'"
      ]
    },
    {
      "cell_type": "code",
      "execution_count": null,
      "metadata": {
        "id": "LuCtuNK0-bbm"
      },
      "outputs": [],
      "source": [
        "import xgboost as exgb\n",
        "data_dmatrix = exgb.DMatrix(data=new_train[exgb_cols],label=y)\n",
        "\n",
        "X_train_exgb, X_test_exgb, y_train, y_test = train_test_split(new_train[exgb_cols], y, test_size=0.2, random_state=123)\n",
        "\n",
        "exg_reg = exgb.XGBRegressor(objective ='reg:squarederror', colsample_bytree = 0.3, learning_rate = 0.005,\n",
        "                max_depth = 5, alpha = 1, n_estimators = 1150, min_child_weight=4)\n",
        "\n",
        "exg_reg.fit(X_train_exgb,y_train)\n",
        "\n",
        "pred_exgb = exg_reg.predict(X_test_exgb)"
      ]
    },
    {
      "cell_type": "code",
      "execution_count": null,
      "metadata": {
        "id": "zWJfLN8c-bbm",
        "outputId": "f526975f-c886-468c-9a7d-ca02e7850a64"
      },
      "outputs": [
        {
          "data": {
            "text/plain": [
              "2935.0372529626798"
            ]
          },
          "execution_count": 45,
          "metadata": {},
          "output_type": "execute_result"
        }
      ],
      "source": [
        "np.sqrt(mean_squared_error(y_test, pred_exgb))"
      ]
    },
    {
      "cell_type": "code",
      "execution_count": null,
      "metadata": {
        "id": "h43Zmd1n-bbn"
      },
      "outputs": [],
      "source": [
        "from sklearn.model_selection import cross_validate\n",
        "crv = cross_validate(exg_reg, new_train[exgb_cols], y, scoring = 'neg_root_mean_squared_error', cv = 10)"
      ]
    },
    {
      "cell_type": "code",
      "execution_count": null,
      "metadata": {
        "id": "eOI1-nWV-bbn",
        "outputId": "da356168-ea42-47c1-9b4b-d053cacd7c34"
      },
      "outputs": [
        {
          "data": {
            "text/plain": [
              "-2960.71954702959"
            ]
          },
          "execution_count": 47,
          "metadata": {},
          "output_type": "execute_result"
        }
      ],
      "source": [
        "np.mean(crv['test_score'])"
      ]
    },
    {
      "cell_type": "code",
      "execution_count": null,
      "metadata": {
        "id": "v1RCDZFR-bbo"
      },
      "outputs": [],
      "source": [
        "params = {\"objective\":\"reg:squarederror\",'colsample_bytree': 0.3,'learning_rate': 0.005,\n",
        "                'max_depth': 3, 'alpha': 10}\n",
        "\n",
        "cv_results = exgb.cv(dtrain=data_dmatrix, params=params, nfold=5,\n",
        "                    num_boost_round=1500,metrics=\"rmse\", as_pandas=True, seed=123)"
      ]
    },
    {
      "cell_type": "code",
      "execution_count": null,
      "metadata": {
        "id": "CPUIDoAO-bbp",
        "outputId": "e52474f6-a240-4ffc-eb6c-6bc0e426e145"
      },
      "outputs": [
        {
          "data": {
            "text/plain": [
              "XGBRegressor(alpha=1, base_score=0.5, booster='gbtree', colsample_bylevel=1,\n",
              "             colsample_bynode=1, colsample_bytree=0.3, gamma=0, gpu_id=-1,\n",
              "             importance_type='gain', interaction_constraints='',\n",
              "             learning_rate=0.005, max_delta_step=0, max_depth=5,\n",
              "             min_child_weight=4, missing=nan, monotone_constraints='()',\n",
              "             n_estimators=1150, n_jobs=0, num_parallel_tree=1,\n",
              "             objective='reg:squarederror', random_state=0, reg_alpha=1,\n",
              "             reg_lambda=1, scale_pos_weight=1, subsample=1, tree_method='exact',\n",
              "             validate_parameters=1, verbosity=None)"
            ]
          },
          "execution_count": 49,
          "metadata": {},
          "output_type": "execute_result"
        }
      ],
      "source": [
        "exg_reg"
      ]
    },
    {
      "cell_type": "code",
      "execution_count": null,
      "metadata": {
        "id": "9dhG_GoS-bbp",
        "outputId": "aa8babc1-80a5-4a66-b98a-19e441e1c974"
      },
      "outputs": [
        {
          "data": {
            "text/html": [
              "<div>\n",
              "<style scoped>\n",
              "    .dataframe tbody tr th:only-of-type {\n",
              "        vertical-align: middle;\n",
              "    }\n",
              "\n",
              "    .dataframe tbody tr th {\n",
              "        vertical-align: top;\n",
              "    }\n",
              "\n",
              "    .dataframe thead th {\n",
              "        text-align: right;\n",
              "    }\n",
              "</style>\n",
              "<table border=\"1\" class=\"dataframe\">\n",
              "  <thead>\n",
              "    <tr style=\"text-align: right;\">\n",
              "      <th></th>\n",
              "      <th>train-rmse-mean</th>\n",
              "      <th>train-rmse-std</th>\n",
              "      <th>test-rmse-mean</th>\n",
              "      <th>test-rmse-std</th>\n",
              "    </tr>\n",
              "  </thead>\n",
              "  <tbody>\n",
              "    <tr>\n",
              "      <th>1495</th>\n",
              "      <td>2784.951416</td>\n",
              "      <td>30.437218</td>\n",
              "      <td>2945.804004</td>\n",
              "      <td>122.459773</td>\n",
              "    </tr>\n",
              "    <tr>\n",
              "      <th>1496</th>\n",
              "      <td>2784.882129</td>\n",
              "      <td>30.419933</td>\n",
              "      <td>2945.817432</td>\n",
              "      <td>122.462878</td>\n",
              "    </tr>\n",
              "    <tr>\n",
              "      <th>1497</th>\n",
              "      <td>2784.791211</td>\n",
              "      <td>30.435770</td>\n",
              "      <td>2945.838721</td>\n",
              "      <td>122.508455</td>\n",
              "    </tr>\n",
              "    <tr>\n",
              "      <th>1498</th>\n",
              "      <td>2784.693457</td>\n",
              "      <td>30.434940</td>\n",
              "      <td>2945.841260</td>\n",
              "      <td>122.497954</td>\n",
              "    </tr>\n",
              "    <tr>\n",
              "      <th>1499</th>\n",
              "      <td>2784.611719</td>\n",
              "      <td>30.432186</td>\n",
              "      <td>2945.844971</td>\n",
              "      <td>122.495796</td>\n",
              "    </tr>\n",
              "  </tbody>\n",
              "</table>\n",
              "</div>"
            ],
            "text/plain": [
              "      train-rmse-mean  train-rmse-std  test-rmse-mean  test-rmse-std\n",
              "1495      2784.951416       30.437218     2945.804004     122.459773\n",
              "1496      2784.882129       30.419933     2945.817432     122.462878\n",
              "1497      2784.791211       30.435770     2945.838721     122.508455\n",
              "1498      2784.693457       30.434940     2945.841260     122.497954\n",
              "1499      2784.611719       30.432186     2945.844971     122.495796"
            ]
          },
          "execution_count": 50,
          "metadata": {},
          "output_type": "execute_result"
        }
      ],
      "source": [
        "cv_results.tail()"
      ]
    },
    {
      "cell_type": "code",
      "execution_count": null,
      "metadata": {
        "id": "3zj-TC4T-bbq"
      },
      "outputs": [],
      "source": [
        "pred = mlp.predict(new_test)"
      ]
    },
    {
      "cell_type": "code",
      "execution_count": null,
      "metadata": {
        "id": "wPnSxc2u-bbq"
      },
      "outputs": [],
      "source": [
        "sub = pd.read_csv('SampleSubmission.csv')"
      ]
    },
    {
      "cell_type": "code",
      "execution_count": null,
      "metadata": {
        "id": "DPqOINoW-bbr"
      },
      "outputs": [],
      "source": [
        "sub['Item_Store_Returns'] = pred"
      ]
    },
    {
      "cell_type": "code",
      "execution_count": null,
      "metadata": {
        "id": "ma2I-CjV-bbs"
      },
      "outputs": [],
      "source": [
        "sub.to_csv('Mlp1Submission4.csv', index = False)"
      ]
    },
    {
      "cell_type": "code",
      "execution_count": null,
      "metadata": {
        "id": "GTqpYSaZ-bbs",
        "outputId": "279fefd1-6efb-4032-979e-2bed8a2c2f1e"
      },
      "outputs": [
        {
          "name": "stdout",
          "output_type": "stream",
          "text": [
            "Iteration 1, loss = 17662924.34344061\n",
            "Iteration 2, loss = 8194909.92385606\n",
            "Iteration 3, loss = 7349253.02235086\n",
            "Iteration 4, loss = 7223463.77640938\n",
            "Iteration 5, loss = 7161286.91251178\n",
            "Iteration 6, loss = 7189844.51682260\n",
            "Iteration 7, loss = 7078836.53238778\n",
            "Iteration 8, loss = 7028088.70060904\n",
            "Iteration 9, loss = 6965096.52604798\n",
            "Iteration 10, loss = 6910343.62834767\n",
            "Iteration 11, loss = 6908812.96832987\n",
            "Iteration 12, loss = 6879837.29270689\n",
            "Iteration 13, loss = 6791195.92758156\n",
            "Iteration 14, loss = 6835933.85889943\n",
            "Iteration 15, loss = 6755720.29661977\n",
            "Iteration 16, loss = 6752575.08033045\n",
            "Iteration 17, loss = 6700855.49316610\n",
            "Iteration 18, loss = 6668170.44863672\n",
            "Iteration 19, loss = 6697329.54196869\n",
            "Iteration 20, loss = 6711857.06997845\n",
            "Iteration 21, loss = 6670092.11717546\n",
            "Iteration 22, loss = 6594900.39265848\n",
            "Iteration 23, loss = 6476368.49182301\n",
            "Iteration 24, loss = 6451467.02589596\n",
            "Iteration 25, loss = 6480826.83942468\n",
            "Iteration 26, loss = 6335441.58505084\n",
            "Iteration 27, loss = 6390623.45117602\n",
            "Iteration 28, loss = 6349684.94776800\n",
            "Iteration 29, loss = 6156813.33148412\n",
            "Iteration 30, loss = 6030804.57334732\n",
            "Iteration 31, loss = 5910347.90877715\n",
            "Iteration 32, loss = 5679434.08425190\n",
            "Iteration 33, loss = 5584007.18450003\n",
            "Iteration 34, loss = 5480921.46069554\n",
            "Iteration 35, loss = 5462037.67354705\n",
            "Iteration 36, loss = 5299689.42525950\n",
            "Iteration 37, loss = 5137398.00326431\n",
            "Iteration 38, loss = 5267441.68031437\n",
            "Iteration 39, loss = 4948954.28000116\n",
            "Iteration 40, loss = 4902811.51859829\n",
            "Iteration 41, loss = 4896683.78714590\n",
            "Iteration 42, loss = 4741020.70062951\n",
            "Iteration 43, loss = 4626509.59811773\n",
            "Iteration 44, loss = 4663961.30890579\n",
            "Iteration 45, loss = 4698592.03977567\n",
            "Iteration 46, loss = 5044022.22349635\n",
            "Iteration 47, loss = 4574625.90053727\n",
            "Iteration 48, loss = 4540983.79323766\n",
            "Iteration 49, loss = 4491443.37055226\n",
            "Iteration 50, loss = 4432414.17005028\n",
            "Iteration 51, loss = 4536646.24377402\n",
            "Iteration 52, loss = 4470330.63028427\n",
            "Iteration 53, loss = 4406726.02116306\n",
            "Iteration 54, loss = 4576850.11179744\n",
            "Iteration 55, loss = 4459103.99272611\n",
            "Iteration 56, loss = 4459914.94680355\n",
            "Iteration 57, loss = 4491178.40997398\n",
            "Iteration 58, loss = 4479047.96431702\n",
            "Iteration 59, loss = 4339917.66974457\n",
            "Iteration 60, loss = 4404537.76472534\n",
            "Iteration 61, loss = 4401307.86653832\n",
            "Iteration 62, loss = 4352442.26825851\n",
            "Iteration 63, loss = 4949095.57573275\n",
            "Iteration 64, loss = 4448369.52555518\n",
            "Iteration 65, loss = 4329694.71244431\n",
            "Iteration 66, loss = 4428052.69179040\n",
            "Iteration 67, loss = 4316679.27110722\n",
            "Iteration 68, loss = 4324208.47715901\n",
            "Iteration 69, loss = 4428544.35826800\n",
            "Iteration 70, loss = 4305249.11110120\n",
            "Iteration 71, loss = 4302402.41825691\n",
            "Iteration 72, loss = 4481386.37000426\n",
            "Iteration 73, loss = 4537312.21813062\n",
            "Iteration 74, loss = 4309999.19775296\n",
            "Iteration 75, loss = 4301168.71331588\n",
            "Iteration 76, loss = 4271920.93913299\n",
            "Iteration 77, loss = 4398404.20436428\n",
            "Iteration 78, loss = 4414851.64926990\n",
            "Iteration 79, loss = 4305371.50071877\n",
            "Iteration 80, loss = 4262771.57941900\n",
            "Iteration 81, loss = 4285635.61495344\n",
            "Iteration 82, loss = 4379142.84831697\n",
            "Iteration 83, loss = 4337716.55584574\n",
            "Iteration 84, loss = 4253977.49212687\n",
            "Iteration 85, loss = 4261774.38690022\n",
            "Iteration 86, loss = 4242384.35442040\n",
            "Iteration 87, loss = 4302190.91094562\n",
            "Iteration 88, loss = 4419032.77688020\n",
            "Iteration 89, loss = 4281930.91722667\n",
            "Iteration 90, loss = 4272973.42784869\n",
            "Iteration 91, loss = 4306803.64658210\n",
            "Iteration 92, loss = 4271025.37553462\n",
            "Iteration 93, loss = 4289791.37607148\n",
            "Iteration 94, loss = 4407278.62353056\n",
            "Iteration 95, loss = 4290385.79832785\n",
            "Iteration 96, loss = 4378779.53265264\n",
            "Iteration 97, loss = 4253175.05158523\n",
            "Training loss did not improve more than tol=0.000100 for 10 consecutive epochs. Stopping.\n"
          ]
        }
      ],
      "source": [
        "from sklearn.neural_network import MLPRegressor\n",
        "mlp = MLPRegressor(max_iter = 2000, hidden_layer_sizes=(100,300,500,500,300,100), alpha = 0.00009, verbose=True )\n",
        "X_train_mlp, X_test_mlp, y_train, y_test = train_test_split(new_train, y, test_size=0.2, random_state=123)\n",
        "mlp.fit(X_train_mlp, y_train)\n",
        "pred_mlp = mlp.predict(X_test_mlp)"
      ]
    },
    {
      "cell_type": "code",
      "execution_count": null,
      "metadata": {
        "id": "o-zmKqod-bbt",
        "outputId": "f073ec74-c31a-4118-8bc3-0f2421c2fd40"
      },
      "outputs": [
        {
          "data": {
            "text/plain": [
              "2922.526621966595"
            ]
          },
          "execution_count": 115,
          "metadata": {},
          "output_type": "execute_result"
        }
      ],
      "source": [
        "np.sqrt(mean_squared_error(y_test, pred_mlp))"
      ]
    },
    {
      "cell_type": "code",
      "execution_count": null,
      "metadata": {
        "id": "85XOwxk5-bbt",
        "outputId": "f3c7ab5b-218d-46fe-a692-a2d2c52d9bf7"
      },
      "outputs": [
        {
          "data": {
            "text/plain": [
              "(6,)"
            ]
          },
          "execution_count": 107,
          "metadata": {},
          "output_type": "execute_result"
        }
      ],
      "source": [
        ""
      ]
    },
    {
      "cell_type": "code",
      "execution_count": null,
      "metadata": {
        "id": "Gikj356n-bbu"
      },
      "outputs": [],
      "source": [
        "'''from sklearn.neural_network import MLPRegressor\n",
        "mlp = MLPRegressor(max_iter = 2000, hidden_layer_sizes=(200,200,50), alpha = 0.001, verbose=True )\n",
        "X_train_mlp, X_test_mlp, y_train, y_test = train_test_split(new_train, y, test_size=0.2, random_state=123)\n",
        "mlp.fit(X_train_mlp, y_train)\n",
        "pred_mlp = mlp.predict(X_test_mlp)\n",
        "\n",
        "\n",
        "from sklearn.neural_network import MLPRegressor\n",
        "mlp = MLPRegressor(max_iter = 2000, hidden_layer_sizes=(20,300,200,100,60), alpha = 0.0005, verbose=True )\n",
        "X_train_mlp, X_test_mlp, y_train, y_test = train_test_split(new_train, y, test_size=0.2, random_state=123)\n",
        "mlp.fit(X_train_mlp, y_train)\n",
        "pred_mlp = mlp.predict(X_test_mlp)\n",
        "\n",
        "from sklearn.neural_network import MLPRegressor\n",
        "mlp = MLPRegressor(max_iter = 2000, hidden_layer_sizes=(20,300,200,100,60), alpha = 0.0005, verbose=True )\n",
        "X_train_mlp, X_test_mlp, y_train, y_test = train_test_split(new_train, y, test_size=0.2, random_state=123)\n",
        "mlp.fit(X_train_mlp, y_train)\n",
        "pred_mlp = mlp.predict(X_test_mlp)\n",
        "\n",
        "from sklearn.neural_network import MLPRegressor\n",
        "mlp = MLPRegressor(max_iter = 2000, hidden_layer_sizes=(20,400,300,300,100,30), alpha = 0.0005, verbose=True )\n",
        "X_train_mlp, X_test_mlp, y_train, y_test = train_test_split(new_train, y, test_size=0.2, random_state=123)\n",
        "mlp.fit(X_train_mlp, y_train)\n",
        "pred_mlp = mlp.predict(X_test_mlp)\n",
        "\n",
        "from sklearn.neural_network import MLPRegressor\n",
        "mlp = MLPRegressor(max_iter = 2000, hidden_layer_sizes=(100,300,500,300,100), alpha = 0.0005, verbose=True )\n",
        "X_train_mlp, X_test_mlp, y_train, y_test = train_test_split(new_train, y, test_size=0.2, random_state=123)\n",
        "mlp.fit(X_train_mlp, y_train)\n",
        "pred_mlp = mlp.predict(X_test_mlp)\n",
        "\n",
        "from sklearn.neural_network import MLPRegressor\n",
        "mlp = MLPRegressor(max_iter = 2000, hidden_layer_sizes=(100,300,500,500,300,100), alpha = 0.0005, verbose=True )\n",
        "X_train_mlp, X_test_mlp, y_train, y_test = train_test_split(new_train, y, test_size=0.2, random_state=123)\n",
        "mlp.fit(X_train_mlp, y_train)\n",
        "pred_mlp = mlp.predict(X_test_mlp)'''"
      ]
    }
  ],
  "metadata": {
    "kernelspec": {
      "display_name": "Python 3",
      "language": "python",
      "name": "python3"
    },
    "language_info": {
      "codemirror_mode": {
        "name": "ipython",
        "version": 3
      },
      "file_extension": ".py",
      "mimetype": "text/x-python",
      "name": "python",
      "nbconvert_exporter": "python",
      "pygments_lexer": "ipython3",
      "version": "3.7.6"
    },
    "colab": {
      "name": "Excellent_Store.ipynb",
      "provenance": [],
      "include_colab_link": true
    }
  },
  "nbformat": 4,
  "nbformat_minor": 0
}